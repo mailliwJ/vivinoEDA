{
 "cells": [
  {
   "cell_type": "markdown",
   "metadata": {},
   "source": [
    "***Issues***\n",
    "\n",
    "- missing grape varieties in white_DF. Need to investigate how many and how to handle this.\n",
    "- missing fizziness and tannin data expected as white wine have low tannin content and noone of the extracted wines are sparkling.\n",
    "- remove fizziness from both datasets.\n",
    "- 'ratings_count' and wine_ratings_count are very similar but with fewer counts for 'ratings_count'. same for 'averages' columns.\n",
    "\n",
    "***Positives***\n",
    "- appear to be very few null values in the datasets. Should further investigate to check."
   ]
  },
  {
   "cell_type": "markdown",
   "metadata": {},
   "source": [
    "This notebook aims to address any cleaning that needs to be completed before any analysis can take place.  \n",
    "Cleaning will include:  \n",
    "- Handling of missing/null values\n",
    "- Correcting data types for each variable (column)\n",
    "- Handling duplicate entries\n",
    "- Remobal of unnecessary columns ('fizziness', 'ratings_count', 'ratings_average')\n",
    "- Considering how to handle outliers"
   ]
  },
  {
   "cell_type": "code",
   "execution_count": 2,
   "metadata": {},
   "outputs": [],
   "source": [
    "import json\n",
    "import numpy as np\n",
    "import pandas as pd"
   ]
  },
  {
   "cell_type": "code",
   "execution_count": 37,
   "metadata": {},
   "outputs": [],
   "source": [
    "# load both datasets\n",
    "white_wine_raw = pd.read_csv('../data/white_wine_raw.csv', sep='|')\n",
    "red_wine_raw = pd.read_csv('../data/red_wine_raw.csv', sep='|')"
   ]
  },
  {
   "cell_type": "code",
   "execution_count": 38,
   "metadata": {},
   "outputs": [
    {
     "name": "stdout",
     "output_type": "stream",
     "text": [
      "<class 'pandas.core.frame.DataFrame'>\n",
      "RangeIndex: 20000 entries, 0 to 19999\n",
      "Data columns (total 17 columns):\n",
      " #   Column                Non-Null Count  Dtype  \n",
      "---  ------                --------------  -----  \n",
      " 0   vintage_name          20000 non-null  object \n",
      " 1   wine_name             20000 non-null  object \n",
      " 2   year                  20000 non-null  object \n",
      " 3   region                20000 non-null  object \n",
      " 4   bodega                20000 non-null  object \n",
      " 5   varietal_name         20000 non-null  object \n",
      " 6   grape_names           7495 non-null   object \n",
      " 7   price                 20000 non-null  float64\n",
      " 8   acidity               20000 non-null  float64\n",
      " 9   fizziness             0 non-null      float64\n",
      " 10  intensity             20000 non-null  float64\n",
      " 11  sweetness             20000 non-null  float64\n",
      " 12  tannin                0 non-null      float64\n",
      " 13  ratings_count         20000 non-null  int64  \n",
      " 14  ratings_average       20000 non-null  float64\n",
      " 15  wine_ratings_count    20000 non-null  int64  \n",
      " 16  wine_ratings_average  20000 non-null  float64\n",
      "dtypes: float64(8), int64(2), object(7)\n",
      "memory usage: 2.6+ MB\n"
     ]
    }
   ],
   "source": [
    "# going to begin cleaning white wine df as believed to be more problematic\n",
    "# quick inspection of df\n",
    "white_wine_raw.info()"
   ]
  },
  {
   "cell_type": "code",
   "execution_count": null,
   "metadata": {},
   "outputs": [],
   "source": [
    "# not concerned about fizziness or tannin\n",
    "# do need to look into grape_names once duplicates are dealt with."
   ]
  },
  {
   "cell_type": "code",
   "execution_count": 39,
   "metadata": {},
   "outputs": [
    {
     "data": {
      "text/plain": [
       "17973"
      ]
     },
     "execution_count": 39,
     "metadata": {},
     "output_type": "execute_result"
    }
   ],
   "source": [
    "# initially it looks good but need to check to duplicates...\n",
    "white_duplicates = white_wine_raw[white_wine_raw.duplicated()]\n",
    "len(white_duplicates)"
   ]
  },
  {
   "cell_type": "code",
   "execution_count": 40,
   "metadata": {},
   "outputs": [
    {
     "data": {
      "text/plain": [
       "2027"
      ]
     },
     "execution_count": 40,
     "metadata": {},
     "output_type": "execute_result"
    }
   ],
   "source": [
    "# a lot of duplicates so created a new df without them. Lost A LOT of data\n",
    "white_wine_temp = white_wine_raw.drop_duplicates(keep='first')\n",
    "len(white_wine_temp)"
   ]
  },
  {
   "cell_type": "code",
   "execution_count": 41,
   "metadata": {},
   "outputs": [
    {
     "name": "stdout",
     "output_type": "stream",
     "text": [
      "<class 'pandas.core.frame.DataFrame'>\n",
      "Index: 2027 entries, 0 to 12948\n",
      "Data columns (total 17 columns):\n",
      " #   Column                Non-Null Count  Dtype  \n",
      "---  ------                --------------  -----  \n",
      " 0   vintage_name          2027 non-null   object \n",
      " 1   wine_name             2027 non-null   object \n",
      " 2   year                  2027 non-null   object \n",
      " 3   region                2027 non-null   object \n",
      " 4   bodega                2027 non-null   object \n",
      " 5   varietal_name         2027 non-null   object \n",
      " 6   grape_names           1025 non-null   object \n",
      " 7   price                 2027 non-null   float64\n",
      " 8   acidity               2027 non-null   float64\n",
      " 9   fizziness             0 non-null      float64\n",
      " 10  intensity             2027 non-null   float64\n",
      " 11  sweetness             2027 non-null   float64\n",
      " 12  tannin                0 non-null      float64\n",
      " 13  ratings_count         2027 non-null   int64  \n",
      " 14  ratings_average       2027 non-null   float64\n",
      " 15  wine_ratings_count    2027 non-null   int64  \n",
      " 16  wine_ratings_average  2027 non-null   float64\n",
      "dtypes: float64(8), int64(2), object(7)\n",
      "memory usage: 285.0+ KB\n"
     ]
    }
   ],
   "source": [
    "white_wine_temp.info()"
   ]
  },
  {
   "cell_type": "code",
   "execution_count": 42,
   "metadata": {},
   "outputs": [
    {
     "data": {
      "text/plain": [
       "1002"
      ]
     },
     "execution_count": 42,
     "metadata": {},
     "output_type": "execute_result"
    }
   ],
   "source": [
    "len(white_wine_temp[white_wine_temp['grape_names'].isna()])"
   ]
  },
  {
   "cell_type": "code",
   "execution_count": 43,
   "metadata": {},
   "outputs": [],
   "source": [
    "whites = pd.read_csv('../white_clean2.csv',sep='|')"
   ]
  },
  {
   "cell_type": "code",
   "execution_count": null,
   "metadata": {},
   "outputs": [],
   "source": [
    "# a lot of missing grape names but im going to do it manually.\n",
    "white_wine_temp.loc[(white_white_temp['vintage_name'].str.contains(\"Monestir Sant Sebastià dels Gorgs Blanco\")) & (white_wine_temp['grape_names'].isna()), 'grape_names'] = 'Macabeo, Sauvignon Blanc'\n",
    "#white_wine_temp.loc[white_wine_temp['wine_name'] == \"Usatges Blanc\", 'grape_names'] = 'Macabeo, Xarel-lo, Moscatel'\n",
    "white_wine_temp.to_csv('white_wine_temp.csv', sep='|', index=False)"
   ]
  },
  {
   "cell_type": "code",
   "execution_count": 44,
   "metadata": {},
   "outputs": [
    {
     "data": {
      "text/html": [
       "<div>\n",
       "<style scoped>\n",
       "    .dataframe tbody tr th:only-of-type {\n",
       "        vertical-align: middle;\n",
       "    }\n",
       "\n",
       "    .dataframe tbody tr th {\n",
       "        vertical-align: top;\n",
       "    }\n",
       "\n",
       "    .dataframe thead th {\n",
       "        text-align: right;\n",
       "    }\n",
       "</style>\n",
       "<table border=\"1\" class=\"dataframe\">\n",
       "  <thead>\n",
       "    <tr style=\"text-align: right;\">\n",
       "      <th></th>\n",
       "      <th>vintage_name</th>\n",
       "      <th>wine_name</th>\n",
       "      <th>year</th>\n",
       "      <th>region</th>\n",
       "      <th>bodega</th>\n",
       "      <th>varietal_name</th>\n",
       "      <th>grape_names</th>\n",
       "      <th>price</th>\n",
       "      <th>acidity</th>\n",
       "      <th>fizziness</th>\n",
       "      <th>intensity</th>\n",
       "      <th>sweetness</th>\n",
       "      <th>tannin</th>\n",
       "      <th>ratings_count</th>\n",
       "      <th>ratings_average</th>\n",
       "      <th>wine_ratings_count</th>\n",
       "      <th>wine_ratings_average</th>\n",
       "    </tr>\n",
       "  </thead>\n",
       "  <tbody>\n",
       "    <tr>\n",
       "      <th>0</th>\n",
       "      <td>Territorio Luthier Territorio Luthier Blanco 2020</td>\n",
       "      <td>Territorio Luthier Blanco</td>\n",
       "      <td>2020</td>\n",
       "      <td>Ribera del Duero</td>\n",
       "      <td>Territorio Luthier</td>\n",
       "      <td>White</td>\n",
       "      <td>NaN</td>\n",
       "      <td>41.00</td>\n",
       "      <td>3.000000</td>\n",
       "      <td>NaN</td>\n",
       "      <td>3.294000</td>\n",
       "      <td>1.000000</td>\n",
       "      <td>NaN</td>\n",
       "      <td>104</td>\n",
       "      <td>4.5</td>\n",
       "      <td>104</td>\n",
       "      <td>4.5</td>\n",
       "    </tr>\n",
       "    <tr>\n",
       "      <th>3</th>\n",
       "      <td>Abadía Retuerta LeDomaine Blanco de Guarda 2020</td>\n",
       "      <td>LeDomaine Blanco de Guarda</td>\n",
       "      <td>2020</td>\n",
       "      <td>Abadía Retuerta</td>\n",
       "      <td>Abadía Retuerta</td>\n",
       "      <td>White</td>\n",
       "      <td>NaN</td>\n",
       "      <td>37.99</td>\n",
       "      <td>3.113054</td>\n",
       "      <td>NaN</td>\n",
       "      <td>3.305361</td>\n",
       "      <td>1.667902</td>\n",
       "      <td>NaN</td>\n",
       "      <td>509</td>\n",
       "      <td>4.4</td>\n",
       "      <td>3738</td>\n",
       "      <td>4.3</td>\n",
       "    </tr>\n",
       "    <tr>\n",
       "      <th>4</th>\n",
       "      <td>Abadía Retuerta LeDomaine Blanco de Guarda 2019</td>\n",
       "      <td>LeDomaine Blanco de Guarda</td>\n",
       "      <td>2019</td>\n",
       "      <td>Abadía Retuerta</td>\n",
       "      <td>Abadía Retuerta</td>\n",
       "      <td>White</td>\n",
       "      <td>NaN</td>\n",
       "      <td>44.75</td>\n",
       "      <td>3.113054</td>\n",
       "      <td>NaN</td>\n",
       "      <td>3.305361</td>\n",
       "      <td>1.667902</td>\n",
       "      <td>NaN</td>\n",
       "      <td>493</td>\n",
       "      <td>4.4</td>\n",
       "      <td>3738</td>\n",
       "      <td>4.3</td>\n",
       "    </tr>\n",
       "    <tr>\n",
       "      <th>6</th>\n",
       "      <td>De Los Abuelos Viñedo Barreiros Godello 2022</td>\n",
       "      <td>Viñedo Barreiros Godello</td>\n",
       "      <td>2022</td>\n",
       "      <td>Bierzo</td>\n",
       "      <td>De Los Abuelos</td>\n",
       "      <td>White</td>\n",
       "      <td>NaN</td>\n",
       "      <td>23.90</td>\n",
       "      <td>3.194436</td>\n",
       "      <td>NaN</td>\n",
       "      <td>3.398912</td>\n",
       "      <td>1.270335</td>\n",
       "      <td>NaN</td>\n",
       "      <td>343</td>\n",
       "      <td>4.4</td>\n",
       "      <td>343</td>\n",
       "      <td>4.4</td>\n",
       "    </tr>\n",
       "    <tr>\n",
       "      <th>9</th>\n",
       "      <td>Attis Sangarida La Guiana Godello 2021</td>\n",
       "      <td>Sangarida La Guiana Godello</td>\n",
       "      <td>2021</td>\n",
       "      <td>Bierzo</td>\n",
       "      <td>Attis</td>\n",
       "      <td>White</td>\n",
       "      <td>NaN</td>\n",
       "      <td>39.95</td>\n",
       "      <td>3.000000</td>\n",
       "      <td>NaN</td>\n",
       "      <td>3.000000</td>\n",
       "      <td>1.000000</td>\n",
       "      <td>NaN</td>\n",
       "      <td>146</td>\n",
       "      <td>4.4</td>\n",
       "      <td>146</td>\n",
       "      <td>4.4</td>\n",
       "    </tr>\n",
       "    <tr>\n",
       "      <th>...</th>\n",
       "      <td>...</td>\n",
       "      <td>...</td>\n",
       "      <td>...</td>\n",
       "      <td>...</td>\n",
       "      <td>...</td>\n",
       "      <td>...</td>\n",
       "      <td>...</td>\n",
       "      <td>...</td>\n",
       "      <td>...</td>\n",
       "      <td>...</td>\n",
       "      <td>...</td>\n",
       "      <td>...</td>\n",
       "      <td>...</td>\n",
       "      <td>...</td>\n",
       "      <td>...</td>\n",
       "      <td>...</td>\n",
       "      <td>...</td>\n",
       "    </tr>\n",
       "    <tr>\n",
       "      <th>2019</th>\n",
       "      <td>Luna Beberide Godello Bierzo LB 2023</td>\n",
       "      <td>Godello Bierzo LB</td>\n",
       "      <td>2023</td>\n",
       "      <td>Bierzo</td>\n",
       "      <td>Luna Beberide</td>\n",
       "      <td>White</td>\n",
       "      <td>NaN</td>\n",
       "      <td>9.50</td>\n",
       "      <td>3.091019</td>\n",
       "      <td>NaN</td>\n",
       "      <td>2.912803</td>\n",
       "      <td>1.161338</td>\n",
       "      <td>NaN</td>\n",
       "      <td>48</td>\n",
       "      <td>3.8</td>\n",
       "      <td>1520</td>\n",
       "      <td>3.5</td>\n",
       "    </tr>\n",
       "    <tr>\n",
       "      <th>2021</th>\n",
       "      <td>Familia Torres Clos Ancestral Blanco 2022</td>\n",
       "      <td>Clos Ancestral Blanco</td>\n",
       "      <td>2022</td>\n",
       "      <td>Penedès</td>\n",
       "      <td>Familia Torres</td>\n",
       "      <td>White</td>\n",
       "      <td>NaN</td>\n",
       "      <td>13.50</td>\n",
       "      <td>3.588182</td>\n",
       "      <td>NaN</td>\n",
       "      <td>2.844545</td>\n",
       "      <td>1.960000</td>\n",
       "      <td>NaN</td>\n",
       "      <td>47</td>\n",
       "      <td>3.8</td>\n",
       "      <td>79</td>\n",
       "      <td>3.9</td>\n",
       "    </tr>\n",
       "    <tr>\n",
       "      <th>2023</th>\n",
       "      <td>Telmo Rodriguez Basa Blanco 2023</td>\n",
       "      <td>Basa Blanco</td>\n",
       "      <td>2023</td>\n",
       "      <td>Rueda</td>\n",
       "      <td>Telmo Rodriguez</td>\n",
       "      <td>White</td>\n",
       "      <td>NaN</td>\n",
       "      <td>8.75</td>\n",
       "      <td>3.356907</td>\n",
       "      <td>NaN</td>\n",
       "      <td>2.206821</td>\n",
       "      <td>2.181335</td>\n",
       "      <td>NaN</td>\n",
       "      <td>46</td>\n",
       "      <td>3.8</td>\n",
       "      <td>9084</td>\n",
       "      <td>3.8</td>\n",
       "    </tr>\n",
       "    <tr>\n",
       "      <th>2024</th>\n",
       "      <td>La Comarcal Delmoro Blanco 2022</td>\n",
       "      <td>Delmoro Blanco</td>\n",
       "      <td>2022</td>\n",
       "      <td>Valencia</td>\n",
       "      <td>La Comarcal</td>\n",
       "      <td>White</td>\n",
       "      <td>NaN</td>\n",
       "      <td>8.59</td>\n",
       "      <td>3.259294</td>\n",
       "      <td>NaN</td>\n",
       "      <td>2.786824</td>\n",
       "      <td>1.172235</td>\n",
       "      <td>NaN</td>\n",
       "      <td>46</td>\n",
       "      <td>3.8</td>\n",
       "      <td>307</td>\n",
       "      <td>3.7</td>\n",
       "    </tr>\n",
       "    <tr>\n",
       "      <th>12948</th>\n",
       "      <td>Telmo Rodriguez Basa Blanco 2023</td>\n",
       "      <td>Basa Blanco</td>\n",
       "      <td>2023</td>\n",
       "      <td>Rueda</td>\n",
       "      <td>Telmo Rodriguez</td>\n",
       "      <td>White</td>\n",
       "      <td>NaN</td>\n",
       "      <td>8.75</td>\n",
       "      <td>3.356907</td>\n",
       "      <td>NaN</td>\n",
       "      <td>2.206821</td>\n",
       "      <td>2.181335</td>\n",
       "      <td>NaN</td>\n",
       "      <td>46</td>\n",
       "      <td>3.8</td>\n",
       "      <td>9086</td>\n",
       "      <td>3.8</td>\n",
       "    </tr>\n",
       "  </tbody>\n",
       "</table>\n",
       "<p>1002 rows × 17 columns</p>\n",
       "</div>"
      ],
      "text/plain": [
       "                                            vintage_name  \\\n",
       "0      Territorio Luthier Territorio Luthier Blanco 2020   \n",
       "3        Abadía Retuerta LeDomaine Blanco de Guarda 2020   \n",
       "4        Abadía Retuerta LeDomaine Blanco de Guarda 2019   \n",
       "6           De Los Abuelos Viñedo Barreiros Godello 2022   \n",
       "9                 Attis Sangarida La Guiana Godello 2021   \n",
       "...                                                  ...   \n",
       "2019                Luna Beberide Godello Bierzo LB 2023   \n",
       "2021           Familia Torres Clos Ancestral Blanco 2022   \n",
       "2023                    Telmo Rodriguez Basa Blanco 2023   \n",
       "2024                     La Comarcal Delmoro Blanco 2022   \n",
       "12948                   Telmo Rodriguez Basa Blanco 2023   \n",
       "\n",
       "                         wine_name  year            region  \\\n",
       "0        Territorio Luthier Blanco  2020  Ribera del Duero   \n",
       "3       LeDomaine Blanco de Guarda  2020   Abadía Retuerta   \n",
       "4       LeDomaine Blanco de Guarda  2019   Abadía Retuerta   \n",
       "6         Viñedo Barreiros Godello  2022            Bierzo   \n",
       "9      Sangarida La Guiana Godello  2021            Bierzo   \n",
       "...                            ...   ...               ...   \n",
       "2019             Godello Bierzo LB  2023            Bierzo   \n",
       "2021         Clos Ancestral Blanco  2022           Penedès   \n",
       "2023                   Basa Blanco  2023             Rueda   \n",
       "2024                Delmoro Blanco  2022          Valencia   \n",
       "12948                  Basa Blanco  2023             Rueda   \n",
       "\n",
       "                   bodega varietal_name grape_names  price   acidity  \\\n",
       "0      Territorio Luthier         White         NaN  41.00  3.000000   \n",
       "3         Abadía Retuerta         White         NaN  37.99  3.113054   \n",
       "4         Abadía Retuerta         White         NaN  44.75  3.113054   \n",
       "6          De Los Abuelos         White         NaN  23.90  3.194436   \n",
       "9                   Attis         White         NaN  39.95  3.000000   \n",
       "...                   ...           ...         ...    ...       ...   \n",
       "2019        Luna Beberide         White         NaN   9.50  3.091019   \n",
       "2021       Familia Torres         White         NaN  13.50  3.588182   \n",
       "2023      Telmo Rodriguez         White         NaN   8.75  3.356907   \n",
       "2024          La Comarcal         White         NaN   8.59  3.259294   \n",
       "12948     Telmo Rodriguez         White         NaN   8.75  3.356907   \n",
       "\n",
       "       fizziness  intensity  sweetness  tannin  ratings_count  \\\n",
       "0            NaN   3.294000   1.000000     NaN            104   \n",
       "3            NaN   3.305361   1.667902     NaN            509   \n",
       "4            NaN   3.305361   1.667902     NaN            493   \n",
       "6            NaN   3.398912   1.270335     NaN            343   \n",
       "9            NaN   3.000000   1.000000     NaN            146   \n",
       "...          ...        ...        ...     ...            ...   \n",
       "2019         NaN   2.912803   1.161338     NaN             48   \n",
       "2021         NaN   2.844545   1.960000     NaN             47   \n",
       "2023         NaN   2.206821   2.181335     NaN             46   \n",
       "2024         NaN   2.786824   1.172235     NaN             46   \n",
       "12948        NaN   2.206821   2.181335     NaN             46   \n",
       "\n",
       "       ratings_average  wine_ratings_count  wine_ratings_average  \n",
       "0                  4.5                 104                   4.5  \n",
       "3                  4.4                3738                   4.3  \n",
       "4                  4.4                3738                   4.3  \n",
       "6                  4.4                 343                   4.4  \n",
       "9                  4.4                 146                   4.4  \n",
       "...                ...                 ...                   ...  \n",
       "2019               3.8                1520                   3.5  \n",
       "2021               3.8                  79                   3.9  \n",
       "2023               3.8                9084                   3.8  \n",
       "2024               3.8                 307                   3.7  \n",
       "12948              3.8                9086                   3.8  \n",
       "\n",
       "[1002 rows x 17 columns]"
      ]
     },
     "execution_count": 44,
     "metadata": {},
     "output_type": "execute_result"
    }
   ],
   "source": [
    "white_wine_temp[white_wine_temp['grape_names'].isna()]"
   ]
  },
  {
   "cell_type": "code",
   "execution_count": 46,
   "metadata": {},
   "outputs": [
    {
     "name": "stderr",
     "output_type": "stream",
     "text": [
      "/var/folders/50/1z4vl3_96lj7wvqp_4kxvlm80000gn/T/ipykernel_86319/3607540421.py:3: SettingWithCopyWarning: \n",
      "A value is trying to be set on a copy of a slice from a DataFrame\n",
      "\n",
      "See the caveats in the documentation: https://pandas.pydata.org/pandas-docs/stable/user_guide/indexing.html#returning-a-view-versus-a-copy\n",
      "  white_wine_temp.drop(columns=drop_cols, axis=1, inplace=True)\n"
     ]
    }
   ],
   "source": [
    "# drop uneccessary columns\n",
    "drop_cols = ['fizziness', 'ratings_count', 'ratings_average']\n",
    "white_wine_temp.drop(columns=drop_cols, axis=1, inplace=True)"
   ]
  },
  {
   "cell_type": "code",
   "execution_count": 50,
   "metadata": {},
   "outputs": [
    {
     "name": "stderr",
     "output_type": "stream",
     "text": [
      "/var/folders/50/1z4vl3_96lj7wvqp_4kxvlm80000gn/T/ipykernel_86319/2616116777.py:3: SettingWithCopyWarning: \n",
      "A value is trying to be set on a copy of a slice from a DataFrame.\n",
      "Try using .loc[row_indexer,col_indexer] = value instead\n",
      "\n",
      "See the caveats in the documentation: https://pandas.pydata.org/pandas-docs/stable/user_guide/indexing.html#returning-a-view-versus-a-copy\n",
      "  white_wine_temp['red/white'] = 'white'\n",
      "/var/folders/50/1z4vl3_96lj7wvqp_4kxvlm80000gn/T/ipykernel_86319/2616116777.py:4: SettingWithCopyWarning: \n",
      "A value is trying to be set on a copy of a slice from a DataFrame\n",
      "\n",
      "See the caveats in the documentation: https://pandas.pydata.org/pandas-docs/stable/user_guide/indexing.html#returning-a-view-versus-a-copy\n",
      "  white_wine_temp.rename(columns={'grape_names':'grape_varieties'}, inplace=True)\n"
     ]
    }
   ],
   "source": [
    "# add a marker for white wine for when i join the datasets\n",
    "# and rename grape_names to grape_varieties\n",
    "white_wine_temp['red/white'] = 'white'\n",
    "white_wine_temp.rename(columns={'grape_names':'grape_varieties'}, inplace=True)"
   ]
  },
  {
   "cell_type": "code",
   "execution_count": 51,
   "metadata": {},
   "outputs": [
    {
     "data": {
      "text/html": [
       "<div>\n",
       "<style scoped>\n",
       "    .dataframe tbody tr th:only-of-type {\n",
       "        vertical-align: middle;\n",
       "    }\n",
       "\n",
       "    .dataframe tbody tr th {\n",
       "        vertical-align: top;\n",
       "    }\n",
       "\n",
       "    .dataframe thead th {\n",
       "        text-align: right;\n",
       "    }\n",
       "</style>\n",
       "<table border=\"1\" class=\"dataframe\">\n",
       "  <thead>\n",
       "    <tr style=\"text-align: right;\">\n",
       "      <th></th>\n",
       "      <th>vintage_name</th>\n",
       "      <th>wine_name</th>\n",
       "      <th>year</th>\n",
       "      <th>region</th>\n",
       "      <th>bodega</th>\n",
       "      <th>varietal_name</th>\n",
       "      <th>grape_varieties</th>\n",
       "      <th>price</th>\n",
       "      <th>acidity</th>\n",
       "      <th>intensity</th>\n",
       "      <th>sweetness</th>\n",
       "      <th>tannin</th>\n",
       "      <th>wine_ratings_count</th>\n",
       "      <th>wine_ratings_average</th>\n",
       "      <th>red/white</th>\n",
       "    </tr>\n",
       "  </thead>\n",
       "  <tbody>\n",
       "    <tr>\n",
       "      <th>0</th>\n",
       "      <td>Territorio Luthier Territorio Luthier Blanco 2020</td>\n",
       "      <td>Territorio Luthier Blanco</td>\n",
       "      <td>2020</td>\n",
       "      <td>Ribera del Duero</td>\n",
       "      <td>Territorio Luthier</td>\n",
       "      <td>White</td>\n",
       "      <td>NaN</td>\n",
       "      <td>41.00</td>\n",
       "      <td>3.000000</td>\n",
       "      <td>3.294000</td>\n",
       "      <td>1.000000</td>\n",
       "      <td>NaN</td>\n",
       "      <td>104</td>\n",
       "      <td>4.5</td>\n",
       "      <td>white</td>\n",
       "    </tr>\n",
       "    <tr>\n",
       "      <th>1</th>\n",
       "      <td>Ossian Capitel 2021</td>\n",
       "      <td>Capitel</td>\n",
       "      <td>2021</td>\n",
       "      <td>Castilla y León</td>\n",
       "      <td>Ossian</td>\n",
       "      <td>Verdejo</td>\n",
       "      <td>Verdejo</td>\n",
       "      <td>36.20</td>\n",
       "      <td>3.157474</td>\n",
       "      <td>2.987014</td>\n",
       "      <td>2.391702</td>\n",
       "      <td>NaN</td>\n",
       "      <td>1451</td>\n",
       "      <td>4.4</td>\n",
       "      <td>white</td>\n",
       "    </tr>\n",
       "    <tr>\n",
       "      <th>2</th>\n",
       "      <td>Remírez de Ganuza Rioja Blanco Reserva 2021</td>\n",
       "      <td>Rioja Blanco Reserva</td>\n",
       "      <td>2021</td>\n",
       "      <td>Rioja</td>\n",
       "      <td>Remírez de Ganuza</td>\n",
       "      <td>Blanco de Rioja</td>\n",
       "      <td>Viura</td>\n",
       "      <td>33.50</td>\n",
       "      <td>3.297252</td>\n",
       "      <td>3.943942</td>\n",
       "      <td>1.859631</td>\n",
       "      <td>NaN</td>\n",
       "      <td>520</td>\n",
       "      <td>4.4</td>\n",
       "      <td>white</td>\n",
       "    </tr>\n",
       "    <tr>\n",
       "      <th>3</th>\n",
       "      <td>Abadía Retuerta LeDomaine Blanco de Guarda 2020</td>\n",
       "      <td>LeDomaine Blanco de Guarda</td>\n",
       "      <td>2020</td>\n",
       "      <td>Abadía Retuerta</td>\n",
       "      <td>Abadía Retuerta</td>\n",
       "      <td>White</td>\n",
       "      <td>NaN</td>\n",
       "      <td>37.99</td>\n",
       "      <td>3.113054</td>\n",
       "      <td>3.305361</td>\n",
       "      <td>1.667902</td>\n",
       "      <td>NaN</td>\n",
       "      <td>3738</td>\n",
       "      <td>4.3</td>\n",
       "      <td>white</td>\n",
       "    </tr>\n",
       "    <tr>\n",
       "      <th>4</th>\n",
       "      <td>Abadía Retuerta LeDomaine Blanco de Guarda 2019</td>\n",
       "      <td>LeDomaine Blanco de Guarda</td>\n",
       "      <td>2019</td>\n",
       "      <td>Abadía Retuerta</td>\n",
       "      <td>Abadía Retuerta</td>\n",
       "      <td>White</td>\n",
       "      <td>NaN</td>\n",
       "      <td>44.75</td>\n",
       "      <td>3.113054</td>\n",
       "      <td>3.305361</td>\n",
       "      <td>1.667902</td>\n",
       "      <td>NaN</td>\n",
       "      <td>3738</td>\n",
       "      <td>4.3</td>\n",
       "      <td>white</td>\n",
       "    </tr>\n",
       "  </tbody>\n",
       "</table>\n",
       "</div>"
      ],
      "text/plain": [
       "                                        vintage_name  \\\n",
       "0  Territorio Luthier Territorio Luthier Blanco 2020   \n",
       "1                                Ossian Capitel 2021   \n",
       "2        Remírez de Ganuza Rioja Blanco Reserva 2021   \n",
       "3    Abadía Retuerta LeDomaine Blanco de Guarda 2020   \n",
       "4    Abadía Retuerta LeDomaine Blanco de Guarda 2019   \n",
       "\n",
       "                    wine_name  year            region              bodega  \\\n",
       "0   Territorio Luthier Blanco  2020  Ribera del Duero  Territorio Luthier   \n",
       "1                     Capitel  2021   Castilla y León              Ossian   \n",
       "2        Rioja Blanco Reserva  2021             Rioja   Remírez de Ganuza   \n",
       "3  LeDomaine Blanco de Guarda  2020   Abadía Retuerta     Abadía Retuerta   \n",
       "4  LeDomaine Blanco de Guarda  2019   Abadía Retuerta     Abadía Retuerta   \n",
       "\n",
       "     varietal_name grape_varieties  price   acidity  intensity  sweetness  \\\n",
       "0            White             NaN  41.00  3.000000   3.294000   1.000000   \n",
       "1          Verdejo         Verdejo  36.20  3.157474   2.987014   2.391702   \n",
       "2  Blanco de Rioja           Viura  33.50  3.297252   3.943942   1.859631   \n",
       "3            White             NaN  37.99  3.113054   3.305361   1.667902   \n",
       "4            White             NaN  44.75  3.113054   3.305361   1.667902   \n",
       "\n",
       "   tannin  wine_ratings_count  wine_ratings_average red/white  \n",
       "0     NaN                 104                   4.5     white  \n",
       "1     NaN                1451                   4.4     white  \n",
       "2     NaN                 520                   4.4     white  \n",
       "3     NaN                3738                   4.3     white  \n",
       "4     NaN                3738                   4.3     white  "
      ]
     },
     "execution_count": 51,
     "metadata": {},
     "output_type": "execute_result"
    }
   ],
   "source": [
    "white_wine_temp.head()"
   ]
  },
  {
   "cell_type": "code",
   "execution_count": 52,
   "metadata": {},
   "outputs": [],
   "source": [
    "# loaded a version i cleaned in another notebook\n",
    "white_wine_temp = pd.read_csv('../white_clean2.csv', sep='|')"
   ]
  },
  {
   "cell_type": "code",
   "execution_count": 56,
   "metadata": {},
   "outputs": [
    {
     "data": {
      "text/plain": [
       "vintage_name               0\n",
       "wine_name                  0\n",
       "year                       0\n",
       "region                     0\n",
       "bodega                     0\n",
       "varietal_name              0\n",
       "grape_varieties            0\n",
       "price                      0\n",
       "acidity                    0\n",
       "intensity                  0\n",
       "sweetness                  0\n",
       "tannin                  2026\n",
       "wine_ratings_count         0\n",
       "wine_ratings_average       0\n",
       "red/white                  0\n",
       "dtype: int64"
      ]
     },
     "execution_count": 56,
     "metadata": {},
     "output_type": "execute_result"
    }
   ],
   "source": [
    "white_wine_temp.isna().sum()"
   ]
  },
  {
   "cell_type": "code",
   "execution_count": 57,
   "metadata": {},
   "outputs": [],
   "source": [
    "white_wine_temp.to_csv('../data/white_wine_cleaned.csv', sep='|', index=False)"
   ]
  },
  {
   "cell_type": "code",
   "execution_count": 66,
   "metadata": {},
   "outputs": [
    {
     "data": {
      "text/plain": [
       "year\n",
       "2022    619\n",
       "2023    423\n",
       "2021    401\n",
       "2020    224\n",
       "2019    156\n",
       "2018     92\n",
       "2017     39\n",
       "2016     31\n",
       "2015     20\n",
       "2014      9\n",
       "2012      7\n",
       "2013      4\n",
       "2010      1\n",
       "Name: count, dtype: int64"
      ]
     },
     "execution_count": 66,
     "metadata": {},
     "output_type": "execute_result"
    }
   ],
   "source": [
    "white_wine_temp.year.value_counts()"
   ]
  },
  {
   "cell_type": "code",
   "execution_count": 60,
   "metadata": {},
   "outputs": [
    {
     "name": "stdout",
     "output_type": "stream",
     "text": [
      "<class 'pandas.core.frame.DataFrame'>\n",
      "RangeIndex: 20000 entries, 0 to 19999\n",
      "Data columns (total 17 columns):\n",
      " #   Column                Non-Null Count  Dtype  \n",
      "---  ------                --------------  -----  \n",
      " 0   vintage_name          20000 non-null  object \n",
      " 1   wine_name             20000 non-null  object \n",
      " 2   year                  19998 non-null  object \n",
      " 3   region                20000 non-null  object \n",
      " 4   bodega                20000 non-null  object \n",
      " 5   varietal_name         20000 non-null  object \n",
      " 6   grape_names           20000 non-null  object \n",
      " 7   price                 20000 non-null  float64\n",
      " 8   acidity               20000 non-null  float64\n",
      " 9   fizziness             0 non-null      float64\n",
      " 10  intensity             20000 non-null  float64\n",
      " 11  sweetness             20000 non-null  float64\n",
      " 12  tannin                20000 non-null  float64\n",
      " 13  ratings_count         20000 non-null  int64  \n",
      " 14  ratings_average       20000 non-null  float64\n",
      " 15  wine_ratings_count    20000 non-null  int64  \n",
      " 16  wine_ratings_average  20000 non-null  float64\n",
      "dtypes: float64(8), int64(2), object(7)\n",
      "memory usage: 2.6+ MB\n"
     ]
    }
   ],
   "source": [
    "# start again with checking and cleaning red wine df\n",
    "red_wine_raw.info()"
   ]
  },
  {
   "cell_type": "code",
   "execution_count": 61,
   "metadata": {},
   "outputs": [
    {
     "data": {
      "text/plain": [
       "17975"
      ]
     },
     "execution_count": 61,
     "metadata": {},
     "output_type": "execute_result"
    }
   ],
   "source": [
    "# initially it looks good but need to check to duplicates...\n",
    "red_duplicates = red_wine_raw[red_wine_raw.duplicated()]\n",
    "len(red_duplicates)"
   ]
  },
  {
   "cell_type": "code",
   "execution_count": 62,
   "metadata": {},
   "outputs": [
    {
     "data": {
      "text/plain": [
       "2025"
      ]
     },
     "execution_count": 62,
     "metadata": {},
     "output_type": "execute_result"
    }
   ],
   "source": [
    "# a lot of duplicates so created a new df without them. Lost A LOT of data\n",
    "red_wine_temp = red_wine_raw.drop_duplicates(keep='first')\n",
    "len(red_wine_temp)"
   ]
  },
  {
   "cell_type": "code",
   "execution_count": 63,
   "metadata": {},
   "outputs": [
    {
     "name": "stdout",
     "output_type": "stream",
     "text": [
      "<class 'pandas.core.frame.DataFrame'>\n",
      "Index: 2025 entries, 0 to 2024\n",
      "Data columns (total 17 columns):\n",
      " #   Column                Non-Null Count  Dtype  \n",
      "---  ------                --------------  -----  \n",
      " 0   vintage_name          2025 non-null   object \n",
      " 1   wine_name             2025 non-null   object \n",
      " 2   year                  2023 non-null   object \n",
      " 3   region                2025 non-null   object \n",
      " 4   bodega                2025 non-null   object \n",
      " 5   varietal_name         2025 non-null   object \n",
      " 6   grape_names           2025 non-null   object \n",
      " 7   price                 2025 non-null   float64\n",
      " 8   acidity               2025 non-null   float64\n",
      " 9   fizziness             0 non-null      float64\n",
      " 10  intensity             2025 non-null   float64\n",
      " 11  sweetness             2025 non-null   float64\n",
      " 12  tannin                2025 non-null   float64\n",
      " 13  ratings_count         2025 non-null   int64  \n",
      " 14  ratings_average       2025 non-null   float64\n",
      " 15  wine_ratings_count    2025 non-null   int64  \n",
      " 16  wine_ratings_average  2025 non-null   float64\n",
      "dtypes: float64(8), int64(2), object(7)\n",
      "memory usage: 284.8+ KB\n"
     ]
    }
   ],
   "source": [
    "red_wine_temp.info()"
   ]
  },
  {
   "cell_type": "code",
   "execution_count": 67,
   "metadata": {},
   "outputs": [
    {
     "data": {
      "text/plain": [
       "year\n",
       "2019    384\n",
       "2020    362\n",
       "2021    333\n",
       "2018    285\n",
       "2017    173\n",
       "2022    129\n",
       "2016    114\n",
       "2015     86\n",
       "2014     54\n",
       "2012     19\n",
       "2023     16\n",
       "2011     15\n",
       "2013     15\n",
       "2010     12\n",
       "N.V.      5\n",
       "2009      4\n",
       "2004      4\n",
       "2007      3\n",
       "2008      3\n",
       "1999      2\n",
       "2005      2\n",
       "2006      2\n",
       "1996      1\n",
       "Name: count, dtype: int64"
      ]
     },
     "execution_count": 67,
     "metadata": {},
     "output_type": "execute_result"
    }
   ],
   "source": [
    "# got 2 nulls in year that need investigating\n",
    "red_wine_temp.year.value_counts()"
   ]
  },
  {
   "cell_type": "code",
   "execution_count": 83,
   "metadata": {},
   "outputs": [
    {
     "data": {
      "text/html": [
       "<div>\n",
       "<style scoped>\n",
       "    .dataframe tbody tr th:only-of-type {\n",
       "        vertical-align: middle;\n",
       "    }\n",
       "\n",
       "    .dataframe tbody tr th {\n",
       "        vertical-align: top;\n",
       "    }\n",
       "\n",
       "    .dataframe thead th {\n",
       "        text-align: right;\n",
       "    }\n",
       "</style>\n",
       "<table border=\"1\" class=\"dataframe\">\n",
       "  <thead>\n",
       "    <tr style=\"text-align: right;\">\n",
       "      <th></th>\n",
       "      <th>vintage_name</th>\n",
       "      <th>wine_name</th>\n",
       "      <th>year</th>\n",
       "      <th>region</th>\n",
       "      <th>bodega</th>\n",
       "      <th>varietal_name</th>\n",
       "      <th>grape_names</th>\n",
       "      <th>price</th>\n",
       "      <th>acidity</th>\n",
       "      <th>fizziness</th>\n",
       "      <th>intensity</th>\n",
       "      <th>sweetness</th>\n",
       "      <th>tannin</th>\n",
       "      <th>ratings_count</th>\n",
       "      <th>ratings_average</th>\n",
       "      <th>wine_ratings_count</th>\n",
       "      <th>wine_ratings_average</th>\n",
       "    </tr>\n",
       "  </thead>\n",
       "  <tbody>\n",
       "  </tbody>\n",
       "</table>\n",
       "</div>"
      ],
      "text/plain": [
       "Empty DataFrame\n",
       "Columns: [vintage_name, wine_name, year, region, bodega, varietal_name, grape_names, price, acidity, fizziness, intensity, sweetness, tannin, ratings_count, ratings_average, wine_ratings_count, wine_ratings_average]\n",
       "Index: []"
      ]
     },
     "execution_count": 83,
     "metadata": {},
     "output_type": "execute_result"
    }
   ],
   "source": [
    "# Got 5 without values. Assuming 2 are NaNs and other 3 are something else!\n",
    "# pull up NaNs\n",
    "red_wine_temp[red_wine_temp['year'].isna()]"
   ]
  },
  {
   "cell_type": "code",
   "execution_count": 75,
   "metadata": {},
   "outputs": [],
   "source": [
    "# look up and replace using...\n",
    "red_wine_temp.loc[red_wine_temp['vintage_name'] == 'Bodegas Vilano Full Flap Red Blend', 'year'] = 2021"
   ]
  },
  {
   "cell_type": "code",
   "execution_count": 84,
   "metadata": {},
   "outputs": [
    {
     "name": "stderr",
     "output_type": "stream",
     "text": [
      "/var/folders/50/1z4vl3_96lj7wvqp_4kxvlm80000gn/T/ipykernel_86319/308150808.py:1: SettingWithCopyWarning: \n",
      "A value is trying to be set on a copy of a slice from a DataFrame.\n",
      "Try using .loc[row_indexer,col_indexer] = value instead\n",
      "\n",
      "See the caveats in the documentation: https://pandas.pydata.org/pandas-docs/stable/user_guide/indexing.html#returning-a-view-versus-a-copy\n",
      "  red_wine_temp['year'] = red_wine_temp['year'].astype(str)\n"
     ]
    }
   ],
   "source": [
    "red_wine_temp['year'] = red_wine_temp['year'].astype(str)"
   ]
  },
  {
   "cell_type": "code",
   "execution_count": 85,
   "metadata": {},
   "outputs": [
    {
     "data": {
      "text/html": [
       "<div>\n",
       "<style scoped>\n",
       "    .dataframe tbody tr th:only-of-type {\n",
       "        vertical-align: middle;\n",
       "    }\n",
       "\n",
       "    .dataframe tbody tr th {\n",
       "        vertical-align: top;\n",
       "    }\n",
       "\n",
       "    .dataframe thead th {\n",
       "        text-align: right;\n",
       "    }\n",
       "</style>\n",
       "<table border=\"1\" class=\"dataframe\">\n",
       "  <thead>\n",
       "    <tr style=\"text-align: right;\">\n",
       "      <th></th>\n",
       "      <th>vintage_name</th>\n",
       "      <th>wine_name</th>\n",
       "      <th>year</th>\n",
       "      <th>region</th>\n",
       "      <th>bodega</th>\n",
       "      <th>varietal_name</th>\n",
       "      <th>grape_names</th>\n",
       "      <th>price</th>\n",
       "      <th>acidity</th>\n",
       "      <th>fizziness</th>\n",
       "      <th>intensity</th>\n",
       "      <th>sweetness</th>\n",
       "      <th>tannin</th>\n",
       "      <th>ratings_count</th>\n",
       "      <th>ratings_average</th>\n",
       "      <th>wine_ratings_count</th>\n",
       "      <th>wine_ratings_average</th>\n",
       "    </tr>\n",
       "  </thead>\n",
       "  <tbody>\n",
       "  </tbody>\n",
       "</table>\n",
       "</div>"
      ],
      "text/plain": [
       "Empty DataFrame\n",
       "Columns: [vintage_name, wine_name, year, region, bodega, varietal_name, grape_names, price, acidity, fizziness, intensity, sweetness, tannin, ratings_count, ratings_average, wine_ratings_count, wine_ratings_average]\n",
       "Index: []"
      ]
     },
     "execution_count": 85,
     "metadata": {},
     "output_type": "execute_result"
    }
   ],
   "source": [
    "red_wine_temp[red_wine_temp['year'] == 'N.V']"
   ]
  },
  {
   "cell_type": "code",
   "execution_count": 88,
   "metadata": {},
   "outputs": [
    {
     "data": {
      "text/plain": [
       "vintage_name               0\n",
       "wine_name                  0\n",
       "year                       0\n",
       "region                     0\n",
       "bodega                     0\n",
       "varietal_name              0\n",
       "grape_names                0\n",
       "price                      0\n",
       "acidity                    0\n",
       "fizziness               2025\n",
       "intensity                  0\n",
       "sweetness                  0\n",
       "tannin                     0\n",
       "ratings_count              0\n",
       "ratings_average            0\n",
       "wine_ratings_count         0\n",
       "wine_ratings_average       0\n",
       "dtype: int64"
      ]
     },
     "execution_count": 88,
     "metadata": {},
     "output_type": "execute_result"
    }
   ],
   "source": [
    "red_wine_temp.isna().sum()"
   ]
  },
  {
   "cell_type": "code",
   "execution_count": 89,
   "metadata": {},
   "outputs": [
    {
     "name": "stderr",
     "output_type": "stream",
     "text": [
      "/var/folders/50/1z4vl3_96lj7wvqp_4kxvlm80000gn/T/ipykernel_86319/1224643791.py:3: SettingWithCopyWarning: \n",
      "A value is trying to be set on a copy of a slice from a DataFrame\n",
      "\n",
      "See the caveats in the documentation: https://pandas.pydata.org/pandas-docs/stable/user_guide/indexing.html#returning-a-view-versus-a-copy\n",
      "  red_wine_temp.drop(columns=drop_cols, axis=1, inplace=True)\n",
      "/var/folders/50/1z4vl3_96lj7wvqp_4kxvlm80000gn/T/ipykernel_86319/1224643791.py:7: SettingWithCopyWarning: \n",
      "A value is trying to be set on a copy of a slice from a DataFrame.\n",
      "Try using .loc[row_indexer,col_indexer] = value instead\n",
      "\n",
      "See the caveats in the documentation: https://pandas.pydata.org/pandas-docs/stable/user_guide/indexing.html#returning-a-view-versus-a-copy\n",
      "  red_wine_temp['red/white'] = 'white'\n",
      "/var/folders/50/1z4vl3_96lj7wvqp_4kxvlm80000gn/T/ipykernel_86319/1224643791.py:8: SettingWithCopyWarning: \n",
      "A value is trying to be set on a copy of a slice from a DataFrame\n",
      "\n",
      "See the caveats in the documentation: https://pandas.pydata.org/pandas-docs/stable/user_guide/indexing.html#returning-a-view-versus-a-copy\n",
      "  red_wine_temp.rename(columns={'grape_names':'grape_varieties'}, inplace=True)\n"
     ]
    }
   ],
   "source": [
    "# drop uneccessary columns\n",
    "drop_cols = ['fizziness', 'ratings_count', 'ratings_average']\n",
    "red_wine_temp.drop(columns=drop_cols, axis=1, inplace=True)\n",
    "\n",
    "# add a marker for red wine for when i join the datasets\n",
    "# and rename grape_names to grape_varieties\n",
    "red_wine_temp['red/white'] = 'white'\n",
    "red_wine_temp.rename(columns={'grape_names':'grape_varieties'}, inplace=True)"
   ]
  },
  {
   "cell_type": "code",
   "execution_count": 90,
   "metadata": {},
   "outputs": [
    {
     "name": "stdout",
     "output_type": "stream",
     "text": [
      "<class 'pandas.core.frame.DataFrame'>\n",
      "Index: 2025 entries, 0 to 2024\n",
      "Data columns (total 15 columns):\n",
      " #   Column                Non-Null Count  Dtype  \n",
      "---  ------                --------------  -----  \n",
      " 0   vintage_name          2025 non-null   object \n",
      " 1   wine_name             2025 non-null   object \n",
      " 2   year                  2025 non-null   object \n",
      " 3   region                2025 non-null   object \n",
      " 4   bodega                2025 non-null   object \n",
      " 5   varietal_name         2025 non-null   object \n",
      " 6   grape_varieties       2025 non-null   object \n",
      " 7   price                 2025 non-null   float64\n",
      " 8   acidity               2025 non-null   float64\n",
      " 9   intensity             2025 non-null   float64\n",
      " 10  sweetness             2025 non-null   float64\n",
      " 11  tannin                2025 non-null   float64\n",
      " 12  wine_ratings_count    2025 non-null   int64  \n",
      " 13  wine_ratings_average  2025 non-null   float64\n",
      " 14  red/white             2025 non-null   object \n",
      "dtypes: float64(6), int64(1), object(8)\n",
      "memory usage: 253.1+ KB\n"
     ]
    }
   ],
   "source": [
    "# final inspection before saving cleaned dataset\n",
    "red_wine_temp.info()"
   ]
  },
  {
   "cell_type": "code",
   "execution_count": 91,
   "metadata": {},
   "outputs": [],
   "source": [
    "red_wine_temp.to_csv('../data/red_wine_cleaned.csv', sep='|', index=False)"
   ]
  }
 ],
 "metadata": {
  "kernelspec": {
   "display_name": "Python 3",
   "language": "python",
   "name": "python3"
  },
  "language_info": {
   "codemirror_mode": {
    "name": "ipython",
    "version": 3
   },
   "file_extension": ".py",
   "mimetype": "text/x-python",
   "name": "python",
   "nbconvert_exporter": "python",
   "pygments_lexer": "ipython3",
   "version": "3.12.1"
  }
 },
 "nbformat": 4,
 "nbformat_minor": 2
}
